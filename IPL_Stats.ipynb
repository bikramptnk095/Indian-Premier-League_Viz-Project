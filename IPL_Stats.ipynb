{
 "cells": [
  {
   "cell_type": "code",
   "execution_count": null,
   "metadata": {
    "collapsed": true
   },
   "outputs": [],
   "source": [
    "import pandas as pd\n",
    "import os\n",
    "from IPython.core.interactiveshell import InteractiveShell\n",
    "InteractiveShell.ast_node_interactivity = \"all\""
   ]
  },
  {
   "cell_type": "code",
   "execution_count": null,
   "metadata": {
    "collapsed": true
   },
   "outputs": [],
   "source": [
    "years = range(2009,2018)\n",
    "writer = pd.ExcelWriter('IPLstats.xlsx', engine = 'xlsxwriter')"
   ]
  },
  {
   "cell_type": "markdown",
   "metadata": {},
   "source": [
    "CREATING A DATAFRAME:\n",
    "In this particular section, I created a dataframe('batting') and deleted columns that I don't need from the original file. Moreover, I renamed the columns as per my requirement. First, I did it for 2008 and then used a for loop to reiterate till 2017. After concatenating all the data for all the years, I created a new sheet called 'Batting Records' in an excel file."
   ]
  },
  {
   "cell_type": "code",
   "execution_count": 11,
   "metadata": {
    "collapsed": false
   },
   "outputs": [],
   "source": [
    "batting = pd.read_csv('BattingStats2008.csv')\n",
    "batting = pd.DataFrame(batting)\n",
    "del batting['url']\n",
    "del batting['NotOut']\n",
    "del batting['BF']\n",
    "del batting['Inns']\n",
    "batting=batting.replace('\\;','',regex=True).astype(str)\n",
    "batting.columns = ['PLAYER', 'NATIONALITY','TEAM', 'MATCHES', 'RUNS SCORE', 'HIGEST SCORE', 'BATTING AVG', 'BATTING SR', '100s', '50s', '4s', '6s']\n",
    "batting['YEAR'] = [2008] * batting.shape[0]\n",
    "\n",
    "for yr in years:\n",
    "    batting1 = pd.read_csv('BattingStats%d.csv' % yr)\n",
    "    batting1 = pd.DataFrame(batting1)\n",
    "    del batting1['url']\n",
    "    del batting1['NotOut']\n",
    "    del batting1['BF']\n",
    "    del batting1['Inns']\n",
    "    batting1.columns = ['PLAYER', 'NATIONALITY', 'TEAM', 'MATCHES', 'RUNS SCORE', 'HIGEST SCORE', 'BATTING AVG', 'BATTING SR', '100s', '50s', '4s', '6s']\n",
    "    batting1['YEAR'] = [yr] * batting1.shape[0]\n",
    "    batting1=batting1.replace('\\;','',regex=True).astype(str)\n",
    "    batting = pd.concat([batting, batting1])\n",
    "    \n",
    "batting.to_excel(writer, sheet_name = 'Batting Records', index = False)"
   ]
  },
  {
   "cell_type": "markdown",
   "metadata": {},
   "source": [
    "Followed the same procedure for capturing Bowling Records."
   ]
  },
  {
   "cell_type": "code",
   "execution_count": 7,
   "metadata": {
    "collapsed": false
   },
   "outputs": [],
   "source": [
    "bowling = pd.read_csv('BowlingStats2008.csv')\n",
    "bowling = pd.DataFrame(bowling)\n",
    "del bowling['url']\n",
    "del bowling['Inns']\n",
    "del bowling['BBI']\n",
    "bowling=bowling.replace('\\;','',regex=True).astype(str)\n",
    "bowling.columns = ['PLAYER', 'NATIONALITY', 'TEAM', 'MATCHES', 'OVERS', 'RUNS', 'WICKETS', 'BOWLING AVG', 'ECONOMY', 'BOWLING SR','4W','5W']\n",
    "bowling['YEAR'] = [2008] * bowling.shape[0]\n",
    "\n",
    "for yr in years:\n",
    "    bowling1 = pd.read_csv('BowlingStats%d.csv' % yr)\n",
    "    bowling1 = pd.DataFrame(bowling1)\n",
    "    del bowling1['url']\n",
    "    del bowling1['Inns']\n",
    "    del bowling1['BBI']\n",
    "    bowling1.columns = ['PLAYER', 'NATIONALITY','TEAM', 'MATCHES', 'OVERS', 'RUNS', 'WICKETS', 'BOWLING AVG', 'ECONOMY', 'BOWLING SR','4W','5W']\n",
    "    bowling1['YEAR'] = [yr] * bowling1.shape[0]\n",
    "    bowling1=bowling1.replace('\\;','',regex=True).astype(str)\n",
    "    bowling= pd.concat([bowling, bowling1])   \n",
    "bowling.to_excel(writer, sheet_name = 'Bowling Records', index = False)"
   ]
  },
  {
   "cell_type": "code",
   "execution_count": 8,
   "metadata": {
    "collapsed": false
   },
   "outputs": [],
   "source": [
    "writer.save()"
   ]
  },
  {
   "cell_type": "code",
   "execution_count": null,
   "metadata": {
    "collapsed": true
   },
   "outputs": [],
   "source": []
  }
 ],
 "metadata": {
  "kernelspec": {
   "display_name": "Python 3",
   "language": "python",
   "name": "python3"
  },
  "language_info": {
   "codemirror_mode": {
    "name": "ipython",
    "version": 3
   },
   "file_extension": ".py",
   "mimetype": "text/x-python",
   "name": "python",
   "nbconvert_exporter": "python",
   "pygments_lexer": "ipython3",
   "version": "3.6.0"
  }
 },
 "nbformat": 4,
 "nbformat_minor": 2
}
